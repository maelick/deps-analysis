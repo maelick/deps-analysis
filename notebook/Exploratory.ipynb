{
 "cells": [
  {
   "cell_type": "code",
   "execution_count": 1,
   "metadata": {
    "collapsed": true
   },
   "outputs": [],
   "source": [
    "import pandas\n",
    "import matplotlib\n",
    "import collections\n",
    "import seaborn\n",
    "import re\n",
    "\n",
    "%matplotlib inline\n",
    "\n",
    "seaborn.set_style('whitegrid')\n",
    "seaborn.set_palette('colorblind')"
   ]
  },
  {
   "cell_type": "code",
   "execution_count": 2,
   "metadata": {
    "collapsed": true
   },
   "outputs": [],
   "source": [
    "ecosystems = ['npm', 'cran']\n",
    "\n",
    "COLORS = {ecos: seaborn.color_palette()[i] for i, ecos in enumerate(ecosystems)}\n",
    "FIG_SIZE = (6, 3)\n",
    "SHOW_TITLE = True\n",
    "\n",
    "REGEX_FIXED_VERSION = re.compile(r'\\^|~|>|<|\\*|\\.x')"
   ]
  },
  {
   "cell_type": "code",
   "execution_count": 3,
   "metadata": {
    "collapsed": true
   },
   "outputs": [],
   "source": [
    "def savefig(fig, name):\n",
    "    # (Un)comment next line to (enable) disable export\n",
    "    return\n",
    "    return fig.savefig('../figures/{}.pdf'.format(name), bbox_inches='tight')"
   ]
  },
  {
   "cell_type": "code",
   "execution_count": 4,
   "metadata": {
    "collapsed": false
   },
   "outputs": [],
   "source": [
    "def snapshot(date, packages, dependencies):\n",
    "    \"\"\"\n",
    "    Return a 2-uple (packages, dependencies) of dataframes that only contain\n",
    "    information that were available and valid at given date.\n",
    "    \"\"\"\n",
    "    date = pandas.to_datetime(date)\n",
    "    pkg = packages[packages['time'] <= date].sort_values('time').groupby(level='package', sort=False).tail(1)\n",
    "    deps = dependencies.merge(pkg, how='inner', left_on=['package', 'version'], right_index=True)\n",
    "    deps = deps.drop('time', axis=1)\n",
    "    return (pkg, deps)"
   ]
  },
  {
   "cell_type": "code",
   "execution_count": 5,
   "metadata": {
    "collapsed": false
   },
   "outputs": [],
   "source": [
    "df_pkg = collections.OrderedDict()\n",
    "df_deps = collections.OrderedDict()\n",
    "\n",
    "for ecosystem in ecosystems: \n",
    "    pkg = pandas.read_csv('../data/{ecosystem}/packages.csv.gz'.format(ecosystem=ecosystem), \n",
    "                          usecols=['package', 'version', 'time'],\n",
    "                          index_col=['package', 'version'],\n",
    "                          parse_dates=['time'])\n",
    "    deps = pandas.read_csv('../data/{ecosystem}/dependencies.csv.gz'.format(ecosystem=ecosystem),\n",
    "                           usecols=['package', 'version', 'dependency', 'constraint'])\n",
    "\n",
    "    df_pkg[ecosystem] = pkg\n",
    "    df_deps[ecosystem] = deps"
   ]
  },
  {
   "cell_type": "code",
   "execution_count": 6,
   "metadata": {
    "collapsed": false
   },
   "outputs": [],
   "source": [
    "for ecos, deps in df_deps.items():\n",
    "    deps['fixed'] = ~ deps['constraint'].str.contains(REGEX_FIXED_VERSION)\n",
    "    deps['constraint'] = deps['constraint'].where(~deps['fixed'], deps['constraint'].str.replace('=', ''), axis=0)"
   ]
  },
  {
   "cell_type": "markdown",
   "metadata": {},
   "source": [
    "# Overview"
   ]
  },
  {
   "cell_type": "markdown",
   "metadata": {},
   "source": [
    "## Number of packages, versions, dependencies (overall/in snapshot)"
   ]
  },
  {
   "cell_type": "code",
   "execution_count": 7,
   "metadata": {
    "collapsed": false
   },
   "outputs": [
    {
     "data": {
      "text/html": [
       "<div>\n",
       "<table border=\"1\" class=\"dataframe\">\n",
       "  <thead>\n",
       "    <tr style=\"text-align: right;\">\n",
       "      <th></th>\n",
       "      <th>packages</th>\n",
       "      <th>versions</th>\n",
       "      <th>dependencies</th>\n",
       "      <th>snapshot</th>\n",
       "      <th>deps in snapshot</th>\n",
       "      <th>versions_mean</th>\n",
       "      <th>dependencies_mean</th>\n",
       "    </tr>\n",
       "  </thead>\n",
       "  <tbody>\n",
       "    <tr>\n",
       "      <th>npm</th>\n",
       "      <td>317159.0</td>\n",
       "      <td>1927750.0</td>\n",
       "      <td>7644295.0</td>\n",
       "      <td>2016-06-28 14:35:28.717</td>\n",
       "      <td>728447.0</td>\n",
       "      <td>0.164523</td>\n",
       "      <td>3.965397</td>\n",
       "    </tr>\n",
       "    <tr>\n",
       "      <th>cran</th>\n",
       "      <td>9568.0</td>\n",
       "      <td>57530.0</td>\n",
       "      <td>128113.0</td>\n",
       "      <td>2016-04-26 20:52:26.000</td>\n",
       "      <td>22191.0</td>\n",
       "      <td>0.166313</td>\n",
       "      <td>2.226890</td>\n",
       "    </tr>\n",
       "  </tbody>\n",
       "</table>\n",
       "</div>"
      ],
      "text/plain": [
       "      packages   versions  dependencies                snapshot  \\\n",
       "npm   317159.0  1927750.0     7644295.0 2016-06-28 14:35:28.717   \n",
       "cran    9568.0    57530.0      128113.0 2016-04-26 20:52:26.000   \n",
       "\n",
       "      deps in snapshot  versions_mean  dependencies_mean  \n",
       "npm           728447.0       0.164523           3.965397  \n",
       "cran           22191.0       0.166313           2.226890  "
      ]
     },
     "execution_count": 7,
     "metadata": {},
     "output_type": "execute_result"
    }
   ],
   "source": [
    "df = pandas.DataFrame(index=ecosystems)\n",
    "\n",
    "for ecos in ecosystems:\n",
    "    latest_date = df_pkg[ecos]['time'].max()\n",
    "    snapshot_pkg, snapshot_deps = snapshot(latest_date, df_pkg[ecos], df_deps[ecos])\n",
    "    \n",
    "    df.loc[ecos, 'packages'] = len(df_pkg[ecos].groupby(level=0))\n",
    "    df.loc[ecos, 'versions'] = len(df_pkg[ecos])\n",
    "    df.loc[ecos, 'dependencies'] = len(df_deps[ecos])\n",
    "    \n",
    "    df.loc[ecos, 'snapshot'] = latest_date\n",
    "    df.loc[ecos, 'deps in snapshot'] = len(snapshot_deps)\n",
    "    \n",
    "df['versions_mean'] = df['packages'] / df['versions']\n",
    "df['dependencies_mean'] = df['dependencies'] / df['versions']\n",
    "\n",
    "df"
   ]
  },
  {
   "cell_type": "markdown",
   "metadata": {},
   "source": [
    "## Number and proportion of fixed constraints (overall/in snasphot)"
   ]
  },
  {
   "cell_type": "code",
   "execution_count": 8,
   "metadata": {
    "collapsed": false
   },
   "outputs": [
    {
     "data": {
      "text/html": [
       "<div>\n",
       "<table border=\"1\" class=\"dataframe\">\n",
       "  <thead>\n",
       "    <tr style=\"text-align: right;\">\n",
       "      <th></th>\n",
       "      <th>versions</th>\n",
       "      <th>versions_with_deps</th>\n",
       "      <th>versions_with_fixed</th>\n",
       "      <th>deps</th>\n",
       "      <th>deps_fixed</th>\n",
       "      <th>p_fixed_deps</th>\n",
       "      <th>p_versions_with_fixed</th>\n",
       "      <th>p_versions_with_deps_with_fixed</th>\n",
       "    </tr>\n",
       "  </thead>\n",
       "  <tbody>\n",
       "    <tr>\n",
       "      <th>npm</th>\n",
       "      <td>1927750.0</td>\n",
       "      <td>33301.0</td>\n",
       "      <td>21154.0</td>\n",
       "      <td>7644295.0</td>\n",
       "      <td>1420047.0</td>\n",
       "      <td>0.185766</td>\n",
       "      <td>0.010973</td>\n",
       "      <td>0.635236</td>\n",
       "    </tr>\n",
       "    <tr>\n",
       "      <th>cran</th>\n",
       "      <td>57530.0</td>\n",
       "      <td>5722.0</td>\n",
       "      <td>14.0</td>\n",
       "      <td>128113.0</td>\n",
       "      <td>19.0</td>\n",
       "      <td>0.000148</td>\n",
       "      <td>0.000243</td>\n",
       "      <td>0.002447</td>\n",
       "    </tr>\n",
       "  </tbody>\n",
       "</table>\n",
       "</div>"
      ],
      "text/plain": [
       "       versions  versions_with_deps  versions_with_fixed       deps  \\\n",
       "npm   1927750.0             33301.0              21154.0  7644295.0   \n",
       "cran    57530.0              5722.0                 14.0   128113.0   \n",
       "\n",
       "      deps_fixed  p_fixed_deps  p_versions_with_fixed  \\\n",
       "npm    1420047.0      0.185766               0.010973   \n",
       "cran        19.0      0.000148               0.000243   \n",
       "\n",
       "      p_versions_with_deps_with_fixed  \n",
       "npm                          0.635236  \n",
       "cran                         0.002447  "
      ]
     },
     "execution_count": 8,
     "metadata": {},
     "output_type": "execute_result"
    }
   ],
   "source": [
    "df = pandas.DataFrame(index=ecosystems)\n",
    "df_snapshot = pandas.DataFrame(index=ecosystems)\n",
    "\n",
    "for ecos in ecosystems:\n",
    "    latest_date = df_pkg[ecos]['time'].max()\n",
    "    snapshot_pkg, snapshot_deps = snapshot(latest_date, df_pkg[ecos], df_deps[ecos])\n",
    "    \n",
    "    df.loc[ecos, 'versions'] = len(df_pkg[ecos])\n",
    "    df.loc[ecos, 'versions_with_deps'] = len(df_deps[ecos].groupby('version'))\n",
    "    df.loc[ecos, 'versions_with_fixed'] = len(df_deps[ecos].query('fixed == True').groupby('version'))\n",
    "    df.loc[ecos, 'deps'] = len(df_deps[ecos])\n",
    "    df.loc[ecos, 'deps_fixed'] = len(df_deps[ecos].query('fixed == True'))\n",
    "    \n",
    "    df_snapshot.loc[ecos, 'versions'] = len(snapshot_pkg)\n",
    "    df_snapshot.loc[ecos, 'versions_with_deps'] = len(snapshot_deps.groupby('version'))\n",
    "    df_snapshot.loc[ecos, 'versions_with_fixed'] = len(snapshot_deps.query('fixed == True').groupby('version'))\n",
    "    df_snapshot.loc[ecos, 'deps'] = len(snapshot_deps)\n",
    "    df_snapshot.loc[ecos, 'deps_fixed'] = len(snapshot_deps.query('fixed == True'))\n",
    "\n",
    "df['p_fixed_deps'] = df['deps_fixed'] / df['deps']\n",
    "df['p_versions_with_fixed'] = df['versions_with_fixed'] / df['versions']\n",
    "df['p_versions_with_deps_with_fixed'] = df['versions_with_fixed'] / df['versions_with_deps']\n",
    "\n",
    "df_snapshot['p_fixed_deps'] = df_snapshot['deps_fixed'] / df_snapshot['deps']\n",
    "df_snapshot['p_versions_with_fixed'] = df_snapshot['versions_with_fixed'] / df_snapshot['versions']\n",
    "df_snapshot['p_versions_with_deps_with_fixed'] = df_snapshot['versions_with_fixed'] / df_snapshot['versions_with_deps']\n",
    "\n",
    "df"
   ]
  },
  {
   "cell_type": "code",
   "execution_count": 9,
   "metadata": {
    "collapsed": false
   },
   "outputs": [
    {
     "data": {
      "text/html": [
       "<div>\n",
       "<table border=\"1\" class=\"dataframe\">\n",
       "  <thead>\n",
       "    <tr style=\"text-align: right;\">\n",
       "      <th></th>\n",
       "      <th>versions</th>\n",
       "      <th>versions_with_deps</th>\n",
       "      <th>versions_with_fixed</th>\n",
       "      <th>deps</th>\n",
       "      <th>deps_fixed</th>\n",
       "      <th>p_fixed_deps</th>\n",
       "      <th>p_versions_with_fixed</th>\n",
       "      <th>p_versions_with_deps_with_fixed</th>\n",
       "    </tr>\n",
       "  </thead>\n",
       "  <tbody>\n",
       "    <tr>\n",
       "      <th>npm</th>\n",
       "      <td>317160.0</td>\n",
       "      <td>4605.0</td>\n",
       "      <td>2543.0</td>\n",
       "      <td>728447.0</td>\n",
       "      <td>115006.0</td>\n",
       "      <td>0.157878</td>\n",
       "      <td>0.008018</td>\n",
       "      <td>0.552226</td>\n",
       "    </tr>\n",
       "    <tr>\n",
       "      <th>cran</th>\n",
       "      <td>9568.0</td>\n",
       "      <td>1303.0</td>\n",
       "      <td>5.0</td>\n",
       "      <td>22191.0</td>\n",
       "      <td>6.0</td>\n",
       "      <td>0.000270</td>\n",
       "      <td>0.000523</td>\n",
       "      <td>0.003837</td>\n",
       "    </tr>\n",
       "  </tbody>\n",
       "</table>\n",
       "</div>"
      ],
      "text/plain": [
       "      versions  versions_with_deps  versions_with_fixed      deps  deps_fixed  \\\n",
       "npm   317160.0              4605.0               2543.0  728447.0    115006.0   \n",
       "cran    9568.0              1303.0                  5.0   22191.0         6.0   \n",
       "\n",
       "      p_fixed_deps  p_versions_with_fixed  p_versions_with_deps_with_fixed  \n",
       "npm       0.157878               0.008018                         0.552226  \n",
       "cran      0.000270               0.000523                         0.003837  "
      ]
     },
     "execution_count": 9,
     "metadata": {},
     "output_type": "execute_result"
    }
   ],
   "source": [
    "df_snapshot"
   ]
  },
  {
   "cell_type": "code",
   "execution_count": 11,
   "metadata": {
    "collapsed": false
   },
   "outputs": [
    {
     "ename": "KeyError",
     "evalue": "MemoryError()",
     "output_type": "error",
     "traceback": [
      "\u001b[0;31m---------------------------------------------------------------------------\u001b[0m",
      "\u001b[0;31mMemoryError\u001b[0m                               Traceback (most recent call last)",
      "\u001b[0;32m/home/alexandre/.conda/envs/deps-analysis/lib/python3.5/site-packages/pandas/core/indexing.py\u001b[0m in \u001b[0;36m_getbool_axis\u001b[0;34m(self, key, axis)\u001b[0m\n\u001b[1;32m   1305\u001b[0m         \u001b[0;32mtry\u001b[0m\u001b[0;34m:\u001b[0m\u001b[0;34m\u001b[0m\u001b[0m\n\u001b[0;32m-> 1306\u001b[0;31m             \u001b[0;32mreturn\u001b[0m \u001b[0mself\u001b[0m\u001b[0;34m.\u001b[0m\u001b[0mobj\u001b[0m\u001b[0;34m.\u001b[0m\u001b[0mtake\u001b[0m\u001b[0;34m(\u001b[0m\u001b[0minds\u001b[0m\u001b[0;34m,\u001b[0m \u001b[0maxis\u001b[0m\u001b[0;34m=\u001b[0m\u001b[0maxis\u001b[0m\u001b[0;34m,\u001b[0m \u001b[0mconvert\u001b[0m\u001b[0;34m=\u001b[0m\u001b[0;32mFalse\u001b[0m\u001b[0;34m)\u001b[0m\u001b[0;34m\u001b[0m\u001b[0m\n\u001b[0m\u001b[1;32m   1307\u001b[0m         \u001b[0;32mexcept\u001b[0m \u001b[0mException\u001b[0m \u001b[0;32mas\u001b[0m \u001b[0mdetail\u001b[0m\u001b[0;34m:\u001b[0m\u001b[0;34m\u001b[0m\u001b[0m\n",
      "\u001b[0;32m/home/alexandre/.conda/envs/deps-analysis/lib/python3.5/site-packages/pandas/core/generic.py\u001b[0m in \u001b[0;36mtake\u001b[0;34m(self, indices, axis, convert, is_copy, **kwargs)\u001b[0m\n\u001b[1;32m   1629\u001b[0m         \u001b[0mnv\u001b[0m\u001b[0;34m.\u001b[0m\u001b[0mvalidate_take\u001b[0m\u001b[0;34m(\u001b[0m\u001b[0mtuple\u001b[0m\u001b[0;34m(\u001b[0m\u001b[0;34m)\u001b[0m\u001b[0;34m,\u001b[0m \u001b[0mkwargs\u001b[0m\u001b[0;34m)\u001b[0m\u001b[0;34m\u001b[0m\u001b[0m\n\u001b[0;32m-> 1630\u001b[0;31m         \u001b[0mself\u001b[0m\u001b[0;34m.\u001b[0m\u001b[0m_consolidate_inplace\u001b[0m\u001b[0;34m(\u001b[0m\u001b[0;34m)\u001b[0m\u001b[0;34m\u001b[0m\u001b[0m\n\u001b[0m\u001b[1;32m   1631\u001b[0m         new_data = self._data.take(indices,\n",
      "\u001b[0;32m/home/alexandre/.conda/envs/deps-analysis/lib/python3.5/site-packages/pandas/core/generic.py\u001b[0m in \u001b[0;36m_consolidate_inplace\u001b[0;34m(self)\u001b[0m\n\u001b[1;32m   2728\u001b[0m \u001b[0;34m\u001b[0m\u001b[0m\n\u001b[0;32m-> 2729\u001b[0;31m         \u001b[0mself\u001b[0m\u001b[0;34m.\u001b[0m\u001b[0m_protect_consolidate\u001b[0m\u001b[0;34m(\u001b[0m\u001b[0mf\u001b[0m\u001b[0;34m)\u001b[0m\u001b[0;34m\u001b[0m\u001b[0m\n\u001b[0m\u001b[1;32m   2730\u001b[0m \u001b[0;34m\u001b[0m\u001b[0m\n",
      "\u001b[0;32m/home/alexandre/.conda/envs/deps-analysis/lib/python3.5/site-packages/pandas/core/generic.py\u001b[0m in \u001b[0;36m_protect_consolidate\u001b[0;34m(self, f)\u001b[0m\n\u001b[1;32m   2717\u001b[0m         \u001b[0mblocks_before\u001b[0m \u001b[0;34m=\u001b[0m \u001b[0mlen\u001b[0m\u001b[0;34m(\u001b[0m\u001b[0mself\u001b[0m\u001b[0;34m.\u001b[0m\u001b[0m_data\u001b[0m\u001b[0;34m.\u001b[0m\u001b[0mblocks\u001b[0m\u001b[0;34m)\u001b[0m\u001b[0;34m\u001b[0m\u001b[0m\n\u001b[0;32m-> 2718\u001b[0;31m         \u001b[0mresult\u001b[0m \u001b[0;34m=\u001b[0m \u001b[0mf\u001b[0m\u001b[0;34m(\u001b[0m\u001b[0;34m)\u001b[0m\u001b[0;34m\u001b[0m\u001b[0m\n\u001b[0m\u001b[1;32m   2719\u001b[0m         \u001b[0;32mif\u001b[0m \u001b[0mlen\u001b[0m\u001b[0;34m(\u001b[0m\u001b[0mself\u001b[0m\u001b[0;34m.\u001b[0m\u001b[0m_data\u001b[0m\u001b[0;34m.\u001b[0m\u001b[0mblocks\u001b[0m\u001b[0;34m)\u001b[0m \u001b[0;34m!=\u001b[0m \u001b[0mblocks_before\u001b[0m\u001b[0;34m:\u001b[0m\u001b[0;34m\u001b[0m\u001b[0m\n",
      "\u001b[0;32m/home/alexandre/.conda/envs/deps-analysis/lib/python3.5/site-packages/pandas/core/generic.py\u001b[0m in \u001b[0;36mf\u001b[0;34m()\u001b[0m\n\u001b[1;32m   2726\u001b[0m         \u001b[0;32mdef\u001b[0m \u001b[0mf\u001b[0m\u001b[0;34m(\u001b[0m\u001b[0;34m)\u001b[0m\u001b[0;34m:\u001b[0m\u001b[0;34m\u001b[0m\u001b[0m\n\u001b[0;32m-> 2727\u001b[0;31m             \u001b[0mself\u001b[0m\u001b[0;34m.\u001b[0m\u001b[0m_data\u001b[0m \u001b[0;34m=\u001b[0m \u001b[0mself\u001b[0m\u001b[0;34m.\u001b[0m\u001b[0m_data\u001b[0m\u001b[0;34m.\u001b[0m\u001b[0mconsolidate\u001b[0m\u001b[0;34m(\u001b[0m\u001b[0;34m)\u001b[0m\u001b[0;34m\u001b[0m\u001b[0m\n\u001b[0m\u001b[1;32m   2728\u001b[0m \u001b[0;34m\u001b[0m\u001b[0m\n",
      "\u001b[0;32m/home/alexandre/.conda/envs/deps-analysis/lib/python3.5/site-packages/pandas/core/internals.py\u001b[0m in \u001b[0;36mconsolidate\u001b[0;34m(self)\u001b[0m\n\u001b[1;32m   3272\u001b[0m         \u001b[0mbm\u001b[0m\u001b[0;34m.\u001b[0m\u001b[0m_is_consolidated\u001b[0m \u001b[0;34m=\u001b[0m \u001b[0;32mFalse\u001b[0m\u001b[0;34m\u001b[0m\u001b[0m\n\u001b[0;32m-> 3273\u001b[0;31m         \u001b[0mbm\u001b[0m\u001b[0;34m.\u001b[0m\u001b[0m_consolidate_inplace\u001b[0m\u001b[0;34m(\u001b[0m\u001b[0;34m)\u001b[0m\u001b[0;34m\u001b[0m\u001b[0m\n\u001b[0m\u001b[1;32m   3274\u001b[0m         \u001b[0;32mreturn\u001b[0m \u001b[0mbm\u001b[0m\u001b[0;34m\u001b[0m\u001b[0m\n",
      "\u001b[0;32m/home/alexandre/.conda/envs/deps-analysis/lib/python3.5/site-packages/pandas/core/internals.py\u001b[0m in \u001b[0;36m_consolidate_inplace\u001b[0;34m(self)\u001b[0m\n\u001b[1;32m   3277\u001b[0m         \u001b[0;32mif\u001b[0m \u001b[0;32mnot\u001b[0m \u001b[0mself\u001b[0m\u001b[0;34m.\u001b[0m\u001b[0mis_consolidated\u001b[0m\u001b[0;34m(\u001b[0m\u001b[0;34m)\u001b[0m\u001b[0;34m:\u001b[0m\u001b[0;34m\u001b[0m\u001b[0m\n\u001b[0;32m-> 3278\u001b[0;31m             \u001b[0mself\u001b[0m\u001b[0;34m.\u001b[0m\u001b[0mblocks\u001b[0m \u001b[0;34m=\u001b[0m \u001b[0mtuple\u001b[0m\u001b[0;34m(\u001b[0m\u001b[0m_consolidate\u001b[0m\u001b[0;34m(\u001b[0m\u001b[0mself\u001b[0m\u001b[0;34m.\u001b[0m\u001b[0mblocks\u001b[0m\u001b[0;34m)\u001b[0m\u001b[0;34m)\u001b[0m\u001b[0;34m\u001b[0m\u001b[0m\n\u001b[0m\u001b[1;32m   3279\u001b[0m             \u001b[0mself\u001b[0m\u001b[0;34m.\u001b[0m\u001b[0m_is_consolidated\u001b[0m \u001b[0;34m=\u001b[0m \u001b[0;32mTrue\u001b[0m\u001b[0;34m\u001b[0m\u001b[0m\n",
      "\u001b[0;32m/home/alexandre/.conda/envs/deps-analysis/lib/python3.5/site-packages/pandas/core/internals.py\u001b[0m in \u001b[0;36m_consolidate\u001b[0;34m(blocks)\u001b[0m\n\u001b[1;32m   4268\u001b[0m         merged_blocks = _merge_blocks(list(group_blocks), dtype=dtype,\n\u001b[0;32m-> 4269\u001b[0;31m                                       _can_consolidate=_can_consolidate)\n\u001b[0m\u001b[1;32m   4270\u001b[0m         \u001b[0mnew_blocks\u001b[0m \u001b[0;34m=\u001b[0m \u001b[0m_extend_blocks\u001b[0m\u001b[0;34m(\u001b[0m\u001b[0mmerged_blocks\u001b[0m\u001b[0;34m,\u001b[0m \u001b[0mnew_blocks\u001b[0m\u001b[0;34m)\u001b[0m\u001b[0;34m\u001b[0m\u001b[0m\n",
      "\u001b[0;32m/home/alexandre/.conda/envs/deps-analysis/lib/python3.5/site-packages/pandas/core/internals.py\u001b[0m in \u001b[0;36m_merge_blocks\u001b[0;34m(blocks, dtype, _can_consolidate)\u001b[0m\n\u001b[1;32m   4288\u001b[0m         \u001b[0mnew_mgr_locs\u001b[0m \u001b[0;34m=\u001b[0m \u001b[0mnp\u001b[0m\u001b[0;34m.\u001b[0m\u001b[0mconcatenate\u001b[0m\u001b[0;34m(\u001b[0m\u001b[0;34m[\u001b[0m\u001b[0mb\u001b[0m\u001b[0;34m.\u001b[0m\u001b[0mmgr_locs\u001b[0m\u001b[0;34m.\u001b[0m\u001b[0mas_array\u001b[0m \u001b[0;32mfor\u001b[0m \u001b[0mb\u001b[0m \u001b[0;32min\u001b[0m \u001b[0mblocks\u001b[0m\u001b[0;34m]\u001b[0m\u001b[0;34m)\u001b[0m\u001b[0;34m\u001b[0m\u001b[0m\n\u001b[0;32m-> 4289\u001b[0;31m         \u001b[0mnew_values\u001b[0m \u001b[0;34m=\u001b[0m \u001b[0m_vstack\u001b[0m\u001b[0;34m(\u001b[0m\u001b[0;34m[\u001b[0m\u001b[0mb\u001b[0m\u001b[0;34m.\u001b[0m\u001b[0mvalues\u001b[0m \u001b[0;32mfor\u001b[0m \u001b[0mb\u001b[0m \u001b[0;32min\u001b[0m \u001b[0mblocks\u001b[0m\u001b[0;34m]\u001b[0m\u001b[0;34m,\u001b[0m \u001b[0mdtype\u001b[0m\u001b[0;34m)\u001b[0m\u001b[0;34m\u001b[0m\u001b[0m\n\u001b[0m\u001b[1;32m   4290\u001b[0m \u001b[0;34m\u001b[0m\u001b[0m\n",
      "\u001b[0;32m/home/alexandre/.conda/envs/deps-analysis/lib/python3.5/site-packages/pandas/core/internals.py\u001b[0m in \u001b[0;36m_vstack\u001b[0;34m(to_stack, dtype)\u001b[0m\n\u001b[1;32m   4334\u001b[0m     \u001b[0;32melse\u001b[0m\u001b[0;34m:\u001b[0m\u001b[0;34m\u001b[0m\u001b[0m\n\u001b[0;32m-> 4335\u001b[0;31m         \u001b[0;32mreturn\u001b[0m \u001b[0mnp\u001b[0m\u001b[0;34m.\u001b[0m\u001b[0mvstack\u001b[0m\u001b[0;34m(\u001b[0m\u001b[0mto_stack\u001b[0m\u001b[0;34m)\u001b[0m\u001b[0;34m\u001b[0m\u001b[0m\n\u001b[0m\u001b[1;32m   4336\u001b[0m \u001b[0;34m\u001b[0m\u001b[0m\n",
      "\u001b[0;32m/home/alexandre/.conda/envs/deps-analysis/lib/python3.5/site-packages/numpy/core/shape_base.py\u001b[0m in \u001b[0;36mvstack\u001b[0;34m(tup)\u001b[0m\n\u001b[1;32m    229\u001b[0m     \"\"\"\n\u001b[0;32m--> 230\u001b[0;31m     \u001b[0;32mreturn\u001b[0m \u001b[0m_nx\u001b[0m\u001b[0;34m.\u001b[0m\u001b[0mconcatenate\u001b[0m\u001b[0;34m(\u001b[0m\u001b[0;34m[\u001b[0m\u001b[0matleast_2d\u001b[0m\u001b[0;34m(\u001b[0m\u001b[0m_m\u001b[0m\u001b[0;34m)\u001b[0m \u001b[0;32mfor\u001b[0m \u001b[0m_m\u001b[0m \u001b[0;32min\u001b[0m \u001b[0mtup\u001b[0m\u001b[0;34m]\u001b[0m\u001b[0;34m,\u001b[0m \u001b[0;36m0\u001b[0m\u001b[0;34m)\u001b[0m\u001b[0;34m\u001b[0m\u001b[0m\n\u001b[0m\u001b[1;32m    231\u001b[0m \u001b[0;34m\u001b[0m\u001b[0m\n",
      "\u001b[0;31mMemoryError\u001b[0m: ",
      "\nDuring handling of the above exception, another exception occurred:\n",
      "\u001b[0;31mKeyError\u001b[0m                                  Traceback (most recent call last)",
      "\u001b[0;32m<ipython-input-11-3800c611574e>\u001b[0m in \u001b[0;36m<module>\u001b[0;34m()\u001b[0m\n\u001b[1;32m     24\u001b[0m         conflicts = len(deps.query('fixed == True')\n\u001b[1;32m     25\u001b[0m                          \u001b[0;34m.\u001b[0m\u001b[0mmerge\u001b[0m\u001b[0;34m(\u001b[0m\u001b[0mfixed\u001b[0m\u001b[0;34m,\u001b[0m \u001b[0mhow\u001b[0m\u001b[0;34m=\u001b[0m\u001b[0;34m'inner'\u001b[0m\u001b[0;34m,\u001b[0m \u001b[0mon\u001b[0m\u001b[0;34m=\u001b[0m\u001b[0;34m[\u001b[0m\u001b[0;34m'dependency'\u001b[0m\u001b[0;34m]\u001b[0m\u001b[0;34m,\u001b[0m \u001b[0msuffixes\u001b[0m\u001b[0;34m=\u001b[0m\u001b[0;34m[\u001b[0m\u001b[0;34m'_left'\u001b[0m\u001b[0;34m,\u001b[0m \u001b[0;34m'_right'\u001b[0m\u001b[0;34m]\u001b[0m\u001b[0;34m)\u001b[0m\u001b[0;34m\u001b[0m\u001b[0m\n\u001b[0;32m---> 26\u001b[0;31m                          \u001b[0;34m.\u001b[0m\u001b[0mquery\u001b[0m\u001b[0;34m(\u001b[0m\u001b[0;34m'package_left != package_right and constraint_left != constraint_right'\u001b[0m\u001b[0;34m)\u001b[0m\u001b[0;34m\u001b[0m\u001b[0m\n\u001b[0m\u001b[1;32m     27\u001b[0m                          .groupby('package_left'))\n\u001b[1;32m     28\u001b[0m         \u001b[0mdf_t_conflict\u001b[0m\u001b[0;34m.\u001b[0m\u001b[0mloc\u001b[0m\u001b[0;34m[\u001b[0m\u001b[0mdate\u001b[0m\u001b[0;34m,\u001b[0m \u001b[0mecos\u001b[0m\u001b[0;34m]\u001b[0m \u001b[0;34m=\u001b[0m \u001b[0mconflicts\u001b[0m\u001b[0;34m\u001b[0m\u001b[0m\n",
      "\u001b[0;32m/home/alexandre/.conda/envs/deps-analysis/lib/python3.5/site-packages/pandas/core/frame.py\u001b[0m in \u001b[0;36mquery\u001b[0;34m(self, expr, inplace, **kwargs)\u001b[0m\n\u001b[1;32m   2149\u001b[0m \u001b[0;34m\u001b[0m\u001b[0m\n\u001b[1;32m   2150\u001b[0m         \u001b[0;32mtry\u001b[0m\u001b[0;34m:\u001b[0m\u001b[0;34m\u001b[0m\u001b[0m\n\u001b[0;32m-> 2151\u001b[0;31m             \u001b[0mnew_data\u001b[0m \u001b[0;34m=\u001b[0m \u001b[0mself\u001b[0m\u001b[0;34m.\u001b[0m\u001b[0mloc\u001b[0m\u001b[0;34m[\u001b[0m\u001b[0mres\u001b[0m\u001b[0;34m]\u001b[0m\u001b[0;34m\u001b[0m\u001b[0m\n\u001b[0m\u001b[1;32m   2152\u001b[0m         \u001b[0;32mexcept\u001b[0m \u001b[0mValueError\u001b[0m\u001b[0;34m:\u001b[0m\u001b[0;34m\u001b[0m\u001b[0m\n\u001b[1;32m   2153\u001b[0m             \u001b[0;31m# when res is multi-dimensional loc raises, but this is sometimes a\u001b[0m\u001b[0;34m\u001b[0m\u001b[0;34m\u001b[0m\u001b[0m\n",
      "\u001b[0;32m/home/alexandre/.conda/envs/deps-analysis/lib/python3.5/site-packages/pandas/core/indexing.py\u001b[0m in \u001b[0;36m__getitem__\u001b[0;34m(self, key)\u001b[0m\n\u001b[1;32m   1294\u001b[0m             \u001b[0;32mreturn\u001b[0m \u001b[0mself\u001b[0m\u001b[0;34m.\u001b[0m\u001b[0m_getitem_tuple\u001b[0m\u001b[0;34m(\u001b[0m\u001b[0mkey\u001b[0m\u001b[0;34m)\u001b[0m\u001b[0;34m\u001b[0m\u001b[0m\n\u001b[1;32m   1295\u001b[0m         \u001b[0;32melse\u001b[0m\u001b[0;34m:\u001b[0m\u001b[0;34m\u001b[0m\u001b[0m\n\u001b[0;32m-> 1296\u001b[0;31m             \u001b[0;32mreturn\u001b[0m \u001b[0mself\u001b[0m\u001b[0;34m.\u001b[0m\u001b[0m_getitem_axis\u001b[0m\u001b[0;34m(\u001b[0m\u001b[0mkey\u001b[0m\u001b[0;34m,\u001b[0m \u001b[0maxis\u001b[0m\u001b[0;34m=\u001b[0m\u001b[0;36m0\u001b[0m\u001b[0;34m)\u001b[0m\u001b[0;34m\u001b[0m\u001b[0m\n\u001b[0m\u001b[1;32m   1297\u001b[0m \u001b[0;34m\u001b[0m\u001b[0m\n\u001b[1;32m   1298\u001b[0m     \u001b[0;32mdef\u001b[0m \u001b[0m_getitem_axis\u001b[0m\u001b[0;34m(\u001b[0m\u001b[0mself\u001b[0m\u001b[0;34m,\u001b[0m \u001b[0mkey\u001b[0m\u001b[0;34m,\u001b[0m \u001b[0maxis\u001b[0m\u001b[0;34m=\u001b[0m\u001b[0;36m0\u001b[0m\u001b[0;34m)\u001b[0m\u001b[0;34m:\u001b[0m\u001b[0;34m\u001b[0m\u001b[0m\n",
      "\u001b[0;32m/home/alexandre/.conda/envs/deps-analysis/lib/python3.5/site-packages/pandas/core/indexing.py\u001b[0m in \u001b[0;36m_getitem_axis\u001b[0;34m(self, key, axis)\u001b[0m\n\u001b[1;32m   1437\u001b[0m             \u001b[0;32mreturn\u001b[0m \u001b[0mself\u001b[0m\u001b[0;34m.\u001b[0m\u001b[0m_get_slice_axis\u001b[0m\u001b[0;34m(\u001b[0m\u001b[0mkey\u001b[0m\u001b[0;34m,\u001b[0m \u001b[0maxis\u001b[0m\u001b[0;34m=\u001b[0m\u001b[0maxis\u001b[0m\u001b[0;34m)\u001b[0m\u001b[0;34m\u001b[0m\u001b[0m\n\u001b[1;32m   1438\u001b[0m         \u001b[0;32melif\u001b[0m \u001b[0mis_bool_indexer\u001b[0m\u001b[0;34m(\u001b[0m\u001b[0mkey\u001b[0m\u001b[0;34m)\u001b[0m\u001b[0;34m:\u001b[0m\u001b[0;34m\u001b[0m\u001b[0m\n\u001b[0;32m-> 1439\u001b[0;31m             \u001b[0;32mreturn\u001b[0m \u001b[0mself\u001b[0m\u001b[0;34m.\u001b[0m\u001b[0m_getbool_axis\u001b[0m\u001b[0;34m(\u001b[0m\u001b[0mkey\u001b[0m\u001b[0;34m,\u001b[0m \u001b[0maxis\u001b[0m\u001b[0;34m=\u001b[0m\u001b[0maxis\u001b[0m\u001b[0;34m)\u001b[0m\u001b[0;34m\u001b[0m\u001b[0m\n\u001b[0m\u001b[1;32m   1440\u001b[0m         \u001b[0;32melif\u001b[0m \u001b[0mis_list_like_indexer\u001b[0m\u001b[0;34m(\u001b[0m\u001b[0mkey\u001b[0m\u001b[0;34m)\u001b[0m\u001b[0;34m:\u001b[0m\u001b[0;34m\u001b[0m\u001b[0m\n\u001b[1;32m   1441\u001b[0m \u001b[0;34m\u001b[0m\u001b[0m\n",
      "\u001b[0;32m/home/alexandre/.conda/envs/deps-analysis/lib/python3.5/site-packages/pandas/core/indexing.py\u001b[0m in \u001b[0;36m_getbool_axis\u001b[0;34m(self, key, axis)\u001b[0m\n\u001b[1;32m   1306\u001b[0m             \u001b[0;32mreturn\u001b[0m \u001b[0mself\u001b[0m\u001b[0;34m.\u001b[0m\u001b[0mobj\u001b[0m\u001b[0;34m.\u001b[0m\u001b[0mtake\u001b[0m\u001b[0;34m(\u001b[0m\u001b[0minds\u001b[0m\u001b[0;34m,\u001b[0m \u001b[0maxis\u001b[0m\u001b[0;34m=\u001b[0m\u001b[0maxis\u001b[0m\u001b[0;34m,\u001b[0m \u001b[0mconvert\u001b[0m\u001b[0;34m=\u001b[0m\u001b[0;32mFalse\u001b[0m\u001b[0;34m)\u001b[0m\u001b[0;34m\u001b[0m\u001b[0m\n\u001b[1;32m   1307\u001b[0m         \u001b[0;32mexcept\u001b[0m \u001b[0mException\u001b[0m \u001b[0;32mas\u001b[0m \u001b[0mdetail\u001b[0m\u001b[0;34m:\u001b[0m\u001b[0;34m\u001b[0m\u001b[0m\n\u001b[0;32m-> 1308\u001b[0;31m             \u001b[0;32mraise\u001b[0m \u001b[0mself\u001b[0m\u001b[0;34m.\u001b[0m\u001b[0m_exception\u001b[0m\u001b[0;34m(\u001b[0m\u001b[0mdetail\u001b[0m\u001b[0;34m)\u001b[0m\u001b[0;34m\u001b[0m\u001b[0m\n\u001b[0m\u001b[1;32m   1309\u001b[0m \u001b[0;34m\u001b[0m\u001b[0m\n\u001b[1;32m   1310\u001b[0m     \u001b[0;32mdef\u001b[0m \u001b[0m_get_slice_axis\u001b[0m\u001b[0;34m(\u001b[0m\u001b[0mself\u001b[0m\u001b[0;34m,\u001b[0m \u001b[0mslice_obj\u001b[0m\u001b[0;34m,\u001b[0m \u001b[0maxis\u001b[0m\u001b[0;34m=\u001b[0m\u001b[0;36m0\u001b[0m\u001b[0;34m)\u001b[0m\u001b[0;34m:\u001b[0m\u001b[0;34m\u001b[0m\u001b[0m\n",
      "\u001b[0;31mKeyError\u001b[0m: MemoryError()"
     ]
    }
   ],
   "source": [
    "dates = pandas.date_range('2010-01-01', '2016-09-01', freq='6M') - pandas.Timedelta('30D')\n",
    "\n",
    "df_t_versions = pandas.DataFrame(index=dates, columns=ecosystems)\n",
    "df_t_deps = pandas.DataFrame(index=dates, columns=ecosystems)\n",
    "df_t_versions_deps = pandas.DataFrame(index=dates, columns=ecosystems)\n",
    "df_t_conflict = pandas.DataFrame(index=dates, columns=ecosystems)\n",
    "\n",
    "divide_by_zero = lambda a, b: a / b if b > 0 else 0\n",
    "\n",
    "for ecos in ecosystems:\n",
    "    for date in dates: \n",
    "        pkg, deps = snapshot(date, df_pkg[ecos], df_deps[ecos])\n",
    "        \n",
    "        packages, dependencies = len(pkg), len(deps)\n",
    "        packages_with_dependencies = len(deps.groupby('package'))\n",
    "        fixed_dependencies = len(deps.query('fixed == True'))\n",
    "        fixed_packages = len(deps.query('fixed == True').groupby('package'))\n",
    "        \n",
    "        df_t_versions.loc[date, ecos] = divide_by_zero(fixed_packages, packages)\n",
    "        df_t_deps.loc[date, ecos] = divide_by_zero(fixed_dependencies, dependencies)\n",
    "        df_t_versions_deps.loc[date, ecos] = divide_by_zero(fixed_packages, packages_with_dependencies)\n",
    "        \n",
    "        # Packages are in conflict if they have the same dependency but with distinct fixed versions\n",
    "        conflicts = len(deps.query('fixed == True')\n",
    "                         .merge(fixed, how='inner', on=['dependency'], suffixes=['_left', '_right'])\n",
    "                         .query('package_left != package_right and constraint_left != constraint_right')\n",
    "                         .groupby('package_left'))\n",
    "        df_t_conflict.loc[date, ecos] = conflicts"
   ]
  },
  {
   "cell_type": "code",
   "execution_count": null,
   "metadata": {
    "collapsed": false
   },
   "outputs": [],
   "source": [
    "fig, axes = matplotlib.pyplot.subplots(nrows=4, sharex=True)\n",
    "\n",
    "df_t_versions.plot(ax=axes[0], title='Packages with a fixed dependency')\n",
    "df_t_deps.plot(ax=axes[1], title='Fixed dependencies')\n",
    "df_t_versions_deps.plot(ax=axes[2], title='Packages with dependencies, and a fixed dependency')\n",
    "df_t_conflicts.plot(ax=axes[3], title='Package in conflict (non-transitive)')"
   ]
  }
 ],
 "metadata": {
  "kernelspec": {
   "display_name": "Python 3",
   "language": "python",
   "name": "python3"
  },
  "language_info": {
   "codemirror_mode": {
    "name": "ipython",
    "version": 3
   },
   "file_extension": ".py",
   "mimetype": "text/x-python",
   "name": "python",
   "nbconvert_exporter": "python",
   "pygments_lexer": "ipython3",
   "version": "3.5.2"
  }
 },
 "nbformat": 4,
 "nbformat_minor": 1
}
